{
  "cells": [
    {
      "cell_type": "markdown",
      "metadata": {
        "id": "n3wTXT6aIc6x"
      },
      "source": [
        "# Importación de librerías"
      ]
    },
    {
      "cell_type": "code",
      "execution_count": null,
      "metadata": {},
      "outputs": [],
      "source": [
        "!pip install spacy\n",
        "!python -m spacy download es_core_news_sm"
      ]
    },
    {
      "cell_type": "code",
      "execution_count": 116,
      "metadata": {
        "id": "cXkiBa6_ITdj"
      },
      "outputs": [],
      "source": [
        "import warnings\n",
        "warnings.filterwarnings('ignore')\n",
        "import pandas as pd\n",
        "import numpy as np\n",
        "\n",
        "import pandas as pd\n",
        "import matplotlib.pyplot as plt\n",
        "import seaborn as sns\n",
        "\n",
        "import spacy\n",
        "nlp = spacy.load('es_core_news_sm')\n"
      ]
    },
    {
      "cell_type": "markdown",
      "metadata": {
        "id": "8ysH2KafJBwO"
      },
      "source": [
        "# Cargamos el dataset"
      ]
    },
    {
      "cell_type": "code",
      "execution_count": 117,
      "metadata": {},
      "outputs": [],
      "source": [
        "#df = pd.read_csv('trackings_fechas_v07-09-24.csv', sep=';')\n",
        "df = pd.read_csv('ml 1.csv', sep=';')"
      ]
    },
    {
      "cell_type": "code",
      "execution_count": 118,
      "metadata": {
        "id": "FOXokjtzfC9J"
      },
      "outputs": [],
      "source": [
        "pd.set_option('display.max_columns', None)"
      ]
    },
    {
      "cell_type": "code",
      "execution_count": null,
      "metadata": {
        "colab": {
          "base_uri": "https://localhost:8080/",
          "height": 787
        },
        "id": "P5O3a0aKcysM",
        "outputId": "c2a95e98-dd4a-4c60-ed88-88b55e4d2726"
      },
      "outputs": [],
      "source": [
        "df.head()"
      ]
    },
    {
      "cell_type": "code",
      "execution_count": null,
      "metadata": {
        "colab": {
          "base_uri": "https://localhost:8080/",
          "height": 317
        },
        "id": "cpHz7g2JJjcU",
        "outputId": "494b4b12-7bc7-4005-c7e9-8995787b9199"
      },
      "outputs": [],
      "source": [
        "df.describe()"
      ]
    },
    {
      "cell_type": "code",
      "execution_count": null,
      "metadata": {
        "colab": {
          "base_uri": "https://localhost:8080/"
        },
        "id": "JqdPw0yogVXW",
        "outputId": "aa3f7625-2c1f-425b-9ec0-3f9abb378b16"
      },
      "outputs": [],
      "source": [
        "columnas = df.columns\n",
        "print(columnas)"
      ]
    },
    {
      "cell_type": "markdown",
      "metadata": {
        "id": "yKMhgcKMNVrM"
      },
      "source": [
        "# Preparación de datos\n",
        "## Unificación de comentarios"
      ]
    },
    {
      "cell_type": "code",
      "execution_count": null,
      "metadata": {
        "colab": {
          "base_uri": "https://localhost:8080/",
          "height": 802
        },
        "id": "dvVG9Je5lr0g",
        "outputId": "79f2cb4a-3113-4746-d2d9-67533b51c0a7"
      },
      "outputs": [],
      "source": [
        "df_grouped = df.groupby('IdTracking').apply(\n",
        "    lambda x: pd.Series({\n",
        "        'Des': x['Des'].iloc[0],  # Cargar 'Des' solo una vez (el primer valor del grupo)\n",
        "        'Des_Combined': ' '.join(x['Des.1'].astype(str)),\n",
        "        'IdTipoTracking': x['IdTipoTracking'].iloc[0],\n",
        "        'IdPrioridad': x['IdPrioridad'].iloc[0],\n",
        "        'IdTipoTarea': x['IdTipoTarea'].iloc[0],\n",
        "        'IdComponente': x['IdComponente'].iloc[0],\n",
        "        'IdPropuesta': x['IdPropuesta'].iloc[0],\n",
        "        'IdCuenta': x['IdCuenta'].iloc[0],\n",
        "        'FecAlt': x['FecAlt'].iloc[0],\n",
        "        'IdUsuarioAlt': x['IdUsuarioAlt'].iloc[0],\n",
        "        'FecAsi': x['FecAsi'].iloc[0],\n",
        "        'IdUsuarioAsi': x['IdUsuarioAsi'].iloc[0],\n",
        "        'IdEstado': x['IdEstado'].iloc[0],\n",
        "        'IdTipoEstado': x['IdTipoEstado'].iloc[0],\n",
        "        'HorEst': x['HorEst'].iloc[0],\n",
        "        'MinEst': x['MinEst'].iloc[0],\n",
        "        'Inter': x['Inter'].iloc[0],\n",
        "        'Exter': x['Exter'].iloc[0],\n",
        "        'IdHito': x['IdHito'].iloc[0],\n",
        "        'IdVersion': x['IdVersion'].iloc[0],\n",
        "        'FecVto': x['FecVto'].iloc[0],\n",
        "        'HorDes': x['HorDes'].iloc[0],\n",
        "        'IdProducto': x['IdProducto'].iloc[0],\n",
        "        'IdCategoria': x['IdCategoria'].iloc[0],\n",
        "        'AplMan': x['AplMan'].iloc[0],\n",
        "        'Hordesdes': x['Hordesdes'].iloc[0],\n",
        "        'Hordestes': x['Hordestes'].iloc[0],\n",
        "        'Horesttes': x['Horesttes'].iloc[0],\n",
        "        'Horestdes': x['Horestdes'].iloc[0],\n",
        "        'HorCli': x['HorCli'].iloc[0],\n",
        "        'ConCan': x['ConCan'].iloc[0],\n",
        "        'Obs': x['Obs'].iloc[0],\n",
        "        'IdTareaProyecto': x['IdTareaProyecto'].iloc[0],\n",
        "        'IdSubtipoProducto': x['IdSubtipoProducto'].iloc[0],\n",
        "        'IdTrackingRelacionado': x['IdTrackingRelacionado'].iloc[0],\n",
        "        'IdComplejidad': x['IdComplejidad'].iloc[0],\n",
        "        'FecUltMod': x['FecUltMod'].iloc[0],\n",
        "        'IdServidor': x['IdServidor'].iloc[0],\n",
        "        'Facturable': x['Facturable'].iloc[0]\n",
        "    })\n",
        ").reset_index()\n",
        "\n",
        "df_grouped.head()\n"
      ]
    },
    {
      "cell_type": "code",
      "execution_count": null,
      "metadata": {},
      "outputs": [],
      "source": [
        "columnas = df_grouped.columns\n",
        "print(columnas)"
      ]
    },
    {
      "cell_type": "code",
      "execution_count": 124,
      "metadata": {},
      "outputs": [],
      "source": [
        "df_grouped['Des_total']= df_grouped['Des'] + ' ' + df_grouped['Des_Combined']"
      ]
    },
    {
      "cell_type": "code",
      "execution_count": null,
      "metadata": {},
      "outputs": [],
      "source": [
        "df_grouped.head()"
      ]
    },
    {
      "cell_type": "code",
      "execution_count": null,
      "metadata": {},
      "outputs": [],
      "source": [
        "# Eliminar las columnas 'Des' y 'Des.1' del DataFrame\n",
        "df_grouped = df_grouped.drop(columns=['Des', 'Des_Combined'])\n",
        "\n",
        "# Mostrar las primeras filas del DataFrame para verificar el resultado\n",
        "df_grouped.head()"
      ]
    },
    {
      "cell_type": "code",
      "execution_count": null,
      "metadata": {},
      "outputs": [],
      "source": [
        "# Reorganizar las columnas para mover 'Des_total' al lado de 'IdTracking'\n",
        "cols = ['IdTracking', 'Des_total'] + [col for col in df_grouped.columns if col not in ['IdTracking', 'Des_total']]\n",
        "df_grouped = df_grouped[cols]\n",
        "\n",
        "# Mostrar las primeras filas del DataFrame para verificar el resultado\n",
        "df_grouped.head()"
      ]
    },
    {
      "cell_type": "code",
      "execution_count": null,
      "metadata": {},
      "outputs": [],
      "source": [
        "df_grouped.head()"
      ]
    },
    {
      "cell_type": "code",
      "execution_count": null,
      "metadata": {},
      "outputs": [],
      "source": []
    },
    {
      "cell_type": "code",
      "execution_count": null,
      "metadata": {
        "colab": {
          "base_uri": "https://localhost:8080/",
          "height": 80
        },
        "id": "kj6fqlbZmKcN",
        "outputId": "b5c75c2a-1027-4381-9c0c-aeffcff65a63"
      },
      "outputs": [],
      "source": [
        "df_filtered = df_grouped[df_grouped['IdTracking'] == 38593]\n",
        "pd.set_option('display.max_colwidth', None)\n",
        "\n",
        "#Mostrar las primeras filas del DataFrame filtrado\n",
        "df_filtered.head()"
      ]
    },
    {
      "cell_type": "markdown",
      "metadata": {},
      "source": [
        "Se realiza la imputacion de valores a la variable facturable"
      ]
    },
    {
      "cell_type": "code",
      "execution_count": null,
      "metadata": {},
      "outputs": [],
      "source": [
        "# Contar la cantidad de registros en el DataFrame 'df_grouped'\n",
        "num_records = df_grouped.shape[0]\n",
        "\n",
        "# Mostrar el resultado\n",
        "print(f\"Número de registros en df_grouped: {num_records}\")"
      ]
    },
    {
      "cell_type": "code",
      "execution_count": null,
      "metadata": {},
      "outputs": [],
      "source": [
        "#visualizamos la columna facturable\n",
        "df_grouped['Facturable'].value_counts()\n",
        "#reemplamos los #n/a por 0\n"
      ]
    },
    {
      "cell_type": "code",
      "execution_count": null,
      "metadata": {},
      "outputs": [],
      "source": [
        "# Contar la cantidad de valores únicos en la columna 'TrackingID'\n",
        "num_distinct_tracking_ids = df['IdTracking'].nunique()\n",
        "\n",
        "# Mostrar el resultado\n",
        "print(f\"Número de TrackingID distintos: {num_distinct_tracking_ids}\")\n"
      ]
    },
    {
      "cell_type": "code",
      "execution_count": null,
      "metadata": {},
      "outputs": [],
      "source": [
        "df_grouped['Facturable'] = df_grouped['Facturable'].replace('#N/D', 0)\n",
        "df_grouped['Facturable'].value_counts()"
      ]
    },
    {
      "cell_type": "markdown",
      "metadata": {},
      "source": [
        "### EDA"
      ]
    },
    {
      "cell_type": "code",
      "execution_count": null,
      "metadata": {},
      "outputs": [],
      "source": [
        "# Tipos de datos\n",
        "df_grouped.dtypes"
      ]
    },
    {
      "cell_type": "code",
      "execution_count": null,
      "metadata": {},
      "outputs": [],
      "source": [
        "# Verificamos el porcentaje de las clases de la columna 'Facturable'\n",
        "df_grouped['Facturable'].value_counts(normalize=True)\n"
      ]
    },
    {
      "cell_type": "code",
      "execution_count": null,
      "metadata": {},
      "outputs": [],
      "source": [
        "#Graficamos la distribución de la columna 'Facturable', en color naranja los no facturables y en azul los facturables\n",
        "sns.countplot(x='Facturable', data=df_grouped, palette='coolwarm')\n",
        "plt.xticks(ticks=[0,1],labels=['NO', 'SI'])\n",
        "plt.title('Distribución de la variable Facturable')\n",
        "plt.show()\n"
      ]
    },
    {
      "cell_type": "code",
      "execution_count": null,
      "metadata": {},
      "outputs": [],
      "source": [
        "# Diccionario de mapeo para 'IdTipoTracking'\n",
        "mapeo_idtipo_tracking = {\n",
        "    1: 'Error',\n",
        "    5: 'Consulta',\n",
        "    4: 'Requerimiento',\n",
        "    8: 'Entregable',\n",
        "    2: 'Nueva tarea',\n",
        "    7: 'Implementacion',\n",
        "    9: 'Caso Prueba',\n",
        "    6: 'Seguimiento/Gestión'\n",
        "}\n",
        "\n",
        "# Diccionario de mapeo para 'IdPrioridad'\n",
        "mapeo_idprioridad = {\n",
        "    5: 'Critico',\n",
        "    3: 'Alta',\n",
        "    1: 'Baja',\n",
        "    2: 'Media',\n",
        "    4: 'Urgente'\n",
        "}\n",
        "\n",
        "# Mapeo para la columna 'Facturable'\n",
        "mapeo_facturable = {0: 'NO', 1: 'SI'}\n",
        "\n",
        "# Graficamos los countplots\n",
        "fig, axs = plt.subplots(1, 2, figsize=(15, 5))\n",
        "\n",
        "# Gráfico para IdTipoTracking\n",
        "sns.countplot(x='IdTipoTracking', hue='Facturable', data=df_grouped, ax=axs[0], palette='coolwarm')\n",
        "\n",
        "# Gráfico para IdPrioridad\n",
        "sns.countplot(x='IdPrioridad', hue='Facturable', data=df_grouped, ax=axs[1], palette='coolwarm')\n",
        "\n",
        "# Reemplazamos los valores de 'IdTipoTracking' por sus descripciones en el gráfico\n",
        "axs[0].set_xticks(range(len(mapeo_idtipo_tracking)))  # Aseguramos que los ticks se alineen\n",
        "axs[0].set_xticklabels([mapeo_idtipo_tracking[i] for i in sorted(mapeo_idtipo_tracking.keys())], rotation=90, ha='center')\n",
        "\n",
        "# Reemplazamos los valores de 'IdPrioridad' por sus descripciones en el gráfico\n",
        "axs[1].set_xticks(range(len(mapeo_idprioridad)))  # Aseguramos que los ticks se alineen\n",
        "axs[1].set_xticklabels([mapeo_idprioridad[i] for i in sorted(mapeo_idprioridad.keys())], rotation=90, ha='center')\n",
        "\n",
        "# Reemplazamos los valores de 'Facturable' por 'SI' y 'NO'\n",
        "handles, labels = axs[0].get_legend_handles_labels()\n",
        "axs[0].legend(handles=handles, labels=[mapeo_facturable[int(label)] for label in labels])\n",
        "\n",
        "handles, labels = axs[1].get_legend_handles_labels()\n",
        "axs[1].legend(handles=handles, labels=[mapeo_facturable[int(label)] for label in labels])\n",
        "\n",
        "plt.tight_layout()\n",
        "plt.show()\n",
        "\n",
        "# Agregamos líneas de densidad para 'IdTipoTracking' y 'IdPrioridad' según 'Facturable'\n",
        "fig, axs = plt.subplots(1, 2, figsize=(15, 5))\n",
        "\n",
        "# Gráfico de densidad para 'IdTipoTracking'\n",
        "sns.kdeplot(data=df_grouped, x='IdTipoTracking', hue='Facturable', ax=axs[0], palette='coolwarm')\n",
        "\n",
        "# Gráfico de densidad para 'IdPrioridad'\n",
        "sns.kdeplot(data=df_grouped, x='IdPrioridad', hue='Facturable', ax=axs[1], palette='coolwarm')\n",
        "\n",
        "# Reemplazamos los valores de 'IdTipoTracking' por sus descripciones en el gráfico\n",
        "axs[0].set_xticks(range(len(mapeo_idtipo_tracking)))  # Aseguramos que los ticks se alineen\n",
        "axs[0].set_xticklabels([mapeo_idtipo_tracking[i] for i in sorted(mapeo_idtipo_tracking.keys())], rotation=90, ha='center')\n",
        "\n",
        "# Reemplazamos los valores de 'IdPrioridad' por sus descripciones en el gráfico\n",
        "axs[1].set_xticks(range(len(mapeo_idprioridad)))  # Aseguramos que los ticks se alineen\n",
        "axs[1].set_xticklabels([mapeo_idprioridad[i] for i in sorted(mapeo_idprioridad.keys())], rotation=90, ha='center')\n",
        "\n",
        "# Reemplazamos los valores de 'Facturable' por 'SI' y 'NO'\n",
        "handles, labels = axs[0].get_legend_handles_labels()\n",
        "axs[0].legend(handles=handles, labels=[mapeo_facturable[int(label)] for label in labels])\n",
        "\n",
        "handles, labels = axs[1].get_legend_handles_labels()\n",
        "axs[1].legend(handles=handles, labels=[mapeo_facturable[int(label)] for label in labels])\n",
        "\n",
        "plt.tight_layout()\n",
        "plt.show()\n"
      ]
    },
    {
      "cell_type": "code",
      "execution_count": null,
      "metadata": {},
      "outputs": [],
      "source": [
        "# Diccionario de mapeo para 'IdTipoTracking'\n",
        "mapeo_idtipo_tracking = {\n",
        "    1: 'Error',\n",
        "    5: 'Consulta',\n",
        "    4: 'Requerimiento',\n",
        "    8: 'Entregable',\n",
        "    2: 'Nueva tarea',\n",
        "    7: 'Implementacion',\n",
        "    9: 'Caso Prueba',\n",
        "    6: 'Seguimiento/Gestión'\n",
        "}\n",
        "\n",
        "# Diccionario de mapeo para 'IdPrioridad'\n",
        "mapeo_idprioridad = {\n",
        "    5: 'Critico',\n",
        "    3: 'Alta',\n",
        "    1: 'Baja',\n",
        "    2: 'Media',\n",
        "    4: 'Urgente'\n",
        "}\n",
        "\n",
        "# Mapeo para la columna 'Facturable'\n",
        "mapeo_facturable = {0: 'NO', 1: 'SI'}\n",
        "\n",
        "# Ahora graficamos en barras apiladas la proporción de facturables según IdTipoTracking e IdPrioridad\n",
        "fig, axs = plt.subplots(1, 2, figsize=(15, 5))\n",
        "\n",
        "# Crosstab para 'IdTipoTracking' y 'Facturable'\n",
        "crosstab_idtipotracking = pd.crosstab(df_grouped['IdTipoTracking'], df_grouped['Facturable']).rename(index=mapeo_idtipo_tracking)\n",
        "crosstab_idtipotracking.columns = [mapeo_facturable[col] for col in crosstab_idtipotracking.columns]\n",
        "crosstab_idtipotracking.plot(kind='bar', stacked=True, ax=axs[0], color=['orange', 'blue'])\n",
        "\n",
        "# Crosstab para 'IdPrioridad' y 'Facturable'\n",
        "crosstab_idprioridad = pd.crosstab(df_grouped['IdPrioridad'], df_grouped['Facturable']).rename(index=mapeo_idprioridad)\n",
        "crosstab_idprioridad.columns = [mapeo_facturable[col] for col in crosstab_idprioridad.columns]\n",
        "crosstab_idprioridad.plot(kind='bar', stacked=True, ax=axs[1], color=['orange', 'blue'])\n",
        "\n",
        "# Etiquetas de los ejes y el título de las gráficas\n",
        "axs[0].set_xlabel('IdTipoTracking')\n",
        "axs[0].set_ylabel('Cantidad')\n",
        "axs[0].set_title('Proporción de Facturables por IdTipoTracking')\n",
        "\n",
        "axs[1].set_xlabel('IdPrioridad')\n",
        "axs[1].set_ylabel('Cantidad')\n",
        "axs[1].set_title('Proporción de Facturables por IdPrioridad')\n",
        "\n",
        "plt.tight_layout()\n",
        "plt.show()\n"
      ]
    },
    {
      "cell_type": "code",
      "execution_count": null,
      "metadata": {},
      "outputs": [],
      "source": [
        "#Ahora repetimos el proceso pero con un grafico de torta, para la clase Facturable=1, IdTipoTracking e IdPrioridad\n",
        "# Diccionario de mapeo para 'IdTipoTracking'\n",
        "mapeo_idtipo_tracking = {\n",
        "    1: 'Error',\n",
        "    5: 'Consulta',\n",
        "    4: 'Requerimiento',\n",
        "    8: 'Entregable',\n",
        "    2: 'Nueva tarea',\n",
        "    7: 'Implementacion',\n",
        "    9: 'Caso Prueba',\n",
        "    6: 'Seguimiento/Gestión'\n",
        "}\n",
        "\n",
        "# Diccionario de mapeo para 'IdPrioridad'\n",
        "mapeo_idprioridad = {\n",
        "    5: 'Critico',\n",
        "    3: 'Alta',\n",
        "    1: 'Baja',\n",
        "    2: 'Media',\n",
        "    4: 'Urgente'\n",
        "}\n",
        "\n",
        "# Filtramos el DataFrame para los facturables (Facturable == 1)\n",
        "df_facturable = df_grouped[df_grouped['Facturable'] == 1]\n",
        "\n",
        "# Creamos los gráficos de pastel\n",
        "fig, axs = plt.subplots(1, 2, figsize=(15, 5))\n",
        "\n",
        "# Gráfico de pastel para 'IdTipoTracking' con mapeo\n",
        "df_facturable['IdTipoTracking'].replace(mapeo_idtipo_tracking).value_counts().plot(kind='pie', autopct='%1.1f%%', ax=axs[0])\n",
        "axs[0].set_ylabel('')  # Removemos la etiqueta del eje y para mejorar visualización\n",
        "axs[0].set_title('Distribución de IdTipoTracking (Facturables)')\n",
        "\n",
        "# Gráfico de pastel para 'IdPrioridad' con mapeo\n",
        "df_facturable['IdPrioridad'].replace(mapeo_idprioridad).value_counts().plot(kind='pie', autopct='%1.1f%%', ax=axs[1])\n",
        "axs[1].set_ylabel('')  # Removemos la etiqueta del eje y para mejorar visualización\n",
        "axs[1].set_title('Distribución de IdPrioridad (Facturables)')\n",
        "\n",
        "plt.tight_layout()\n",
        "plt.show()\n",
        "\n",
        "\n",
        "\n",
        "\n"
      ]
    },
    {
      "cell_type": "code",
      "execution_count": null,
      "metadata": {},
      "outputs": [],
      "source": [
        "#Ahora listado de la clase Facturables=1 según IdTipoTracking e IdPrioridad, de forma decreciente \n",
        "\n",
        "df_grouped[df_grouped['Facturable'] == 1]['IdTipoTracking'].value_counts().sort_values(ascending=False)\n"
      ]
    },
    {
      "cell_type": "code",
      "execution_count": null,
      "metadata": {},
      "outputs": [],
      "source": [
        "df_grouped[df_grouped['Facturable'] == 1]['IdPrioridad'].value_counts().sort_values(ascending=False)"
      ]
    },
    {
      "cell_type": "markdown",
      "metadata": {},
      "source": [
        "### Feature Engineering"
      ]
    },
    {
      "cell_type": "markdown",
      "metadata": {},
      "source": [
        "Creación de la Variable \"TiempoTranscurrido\""
      ]
    },
    {
      "cell_type": "code",
      "execution_count": null,
      "metadata": {},
      "outputs": [],
      "source": [
        "# Creamos la variable temporal que proviene del tiempo transcurrido entre la fecha de alta y la fecha de vencimiento\n",
        "df_grouped['FecAlt'] = pd.to_datetime(df_grouped['FecAlt'], format='%d/%m/%Y %I:%M:%S %p')\n",
        "df_grouped['FecUltMod'] = pd.to_datetime(df_grouped['FecUltMod'], format='%d/%m/%Y %I:%M:%S %p')\n",
        "\n",
        "df_grouped['TiempoTranscurrido'] = (df_grouped['FecUltMod'] - df_grouped['FecAlt']).dt.days\n",
        " \n",
        "# Mostramos las primeras filas del DataFrame para verificar el resultado\n",
        "df_grouped.head()\n"
      ]
    },
    {
      "cell_type": "code",
      "execution_count": null,
      "metadata": {},
      "outputs": [],
      "source": [
        "#Verificamos los parametros de la variable 'TiempoTranscurrido'\n",
        "df_grouped['TiempoTranscurrido'].describe()\n"
      ]
    },
    {
      "cell_type": "code",
      "execution_count": null,
      "metadata": {},
      "outputs": [],
      "source": [
        "#Vemos su distribución\n",
        "sns.histplot(df_grouped['TiempoTranscurrido'], bins=50, kde=True)\n",
        "plt.title('Distribución de la variable TiempoTranscurrido')\n",
        "plt.show()"
      ]
    },
    {
      "cell_type": "code",
      "execution_count": null,
      "metadata": {},
      "outputs": [],
      "source": [
        "#Identificamos los registros negativos de 'TiempoTranscurrido'\n",
        "df_grouped[df_grouped['TiempoTranscurrido'] < 0]\n",
        "\n",
        "#Visualizamos los registros negativos de 'TiempoTranscurrido'\n",
        "df_grouped[df_grouped['TiempoTranscurrido'] < 0].head()\n",
        "\n",
        "#Asignamos el valor 0 a los registros negativos de 'TiempoTranscurrido', ya que corresponden a un mismo día\n",
        "df_grouped.loc[df_grouped['TiempoTranscurrido'] < 0, 'TiempoTranscurrido'] = 0\n",
        "\n",
        "#Verificamos que no existan registros negativos en 'TiempoTranscurrido'\n",
        "df_grouped['TiempoTranscurrido'].min()\n",
        "\n",
        "df_grouped['TiempoTranscurrido'].describe()\n"
      ]
    },
    {
      "cell_type": "code",
      "execution_count": null,
      "metadata": {},
      "outputs": [],
      "source": [
        "#Graficamos la distribución de la variable 'TiempoTranscurrido', según la variable 'Facturable \n",
        "sns.histplot(data=df_grouped, x='TiempoTranscurrido', hue='Facturable', bins=50, kde=True)\n",
        "plt.title('Distribución de la variable TiempoTranscurrido según Facturable')\n",
        "plt.show()"
      ]
    },
    {
      "cell_type": "code",
      "execution_count": null,
      "metadata": {},
      "outputs": [],
      "source": [
        "#ahora indicamos la cantidad de registros con 'TiempoTranscurrido'ordenados de forma descendente\n",
        "df_grouped['TiempoTranscurrido'].value_counts().sort_values(ascending=False)"
      ]
    },
    {
      "cell_type": "code",
      "execution_count": null,
      "metadata": {},
      "outputs": [],
      "source": [
        "#Ahora armamos una tabla para el total de registros por cada valor de 'TiempoTranscurrido', según la clase 'Facturable'\n",
        "pd.crosstab(df_grouped['TiempoTranscurrido'], df_grouped['Facturable'])\n"
      ]
    },
    {
      "cell_type": "code",
      "execution_count": null,
      "metadata": {},
      "outputs": [],
      "source": [
        "#Indicamos la fracción de facturable 1 y 0 para cada valor de 'TiempoTranscurrido'\n",
        "pd.crosstab(df_grouped['TiempoTranscurrido'], df_grouped['Facturable'], normalize='index')\n"
      ]
    }
  ],
  "metadata": {
    "colab": {
      "provenance": []
    },
    "kernelspec": {
      "display_name": "Python 3",
      "name": "python3"
    },
    "language_info": {
      "codemirror_mode": {
        "name": "ipython",
        "version": 3
      },
      "file_extension": ".py",
      "mimetype": "text/x-python",
      "name": "python",
      "nbconvert_exporter": "python",
      "pygments_lexer": "ipython3",
      "version": "3.12.3"
    }
  },
  "nbformat": 4,
  "nbformat_minor": 0
}
